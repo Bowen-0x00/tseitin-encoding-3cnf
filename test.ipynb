{
 "cells": [
  {
   "cell_type": "code",
   "execution_count": 31,
   "metadata": {},
   "outputs": [],
   "source": [
    "from PL import Expr, CNF\n",
    "import config"
   ]
  },
  {
   "cell_type": "code",
   "execution_count": 32,
   "metadata": {},
   "outputs": [],
   "source": [
    "config.set_print_style('unicode')"
   ]
  },
  {
   "cell_type": "code",
   "execution_count": 33,
   "metadata": {},
   "outputs": [
    {
     "name": "stdout",
     "output_type": "stream",
     "text": [
      "(((x_1⟶ x_2)∨¬((¬x_1⟷ x_3)∨x_4))∧¬x_2)\n",
      "(((x_1⟷ x_2)∨¬((¬x_1⟷ x_3)∨x_4))∧¬x_2)\n"
     ]
    }
   ],
   "source": [
    "print(Expr.build_from_infix('((x_1⟶x_2)∨¬((¬x_1⟷x_3)∨x_4))∧¬x_2)'))\n",
    "print(Expr.build_from_infix('((x_1<->x_2)|~((~x_1<->x_3)|x_4))&~x_2)'))"
   ]
  },
  {
   "cell_type": "code",
   "execution_count": 34,
   "metadata": {},
   "outputs": [
    {
     "name": "stdout",
     "output_type": "stream",
     "text": [
      "(((x_1⟶ x_2)∨¬((¬x_1⟷ x_3)∨x_4))∧¬x_2)\n",
      "y5∧(¬y5∨y4)∧(¬y5∨¬x_2)∧(y5∨¬y4∨x_2)∧(¬y4∨y1∨¬y3)∧(y4∨¬y1)∧(y4∨y3)∧(¬y3∨y2∨x_4)∧(y3∨¬y2)∧(y3∨¬x_4)∧(¬y2∨x_1∨x_3)∧(¬y2∨¬x_1∨¬x_3)∧(y2∨¬x_1∨¬x_1)∧(y2∨¬x_1∨¬x_3)∧(y2∨¬x_3∨¬x_1)∧(y2∨¬x_3∨¬x_3)∧(¬y1∨¬x_1∨x_2)∧(y1∨x_1)∧(y1∨¬x_2)\n",
      "y5∧(¬y5∨y4)∧(¬y5∨¬x_2)∧(y5∨¬y4∨x_2)∧(¬y4∨y1∨¬y3)∧(y4∨¬y1)∧(y4∨y3)∧(¬y3∨y2∨x_4)∧(y3∨¬y2)∧(y3∨¬x_4)∧(¬y2∨x_1∨x_3)∧(¬y2∨¬x_1∨¬x_3)∧(y2∨¬x_1)∧(y2∨¬x_1∨¬x_3)∧(y2∨¬x_3∨¬x_1)∧(y2∨¬x_3)∧(¬y1∨¬x_1∨x_2)∧(y1∨x_1)∧(y1∨¬x_2)\n"
     ]
    }
   ],
   "source": [
    "e = Expr.build_from_infix('((x_1⟶x_2)∨¬((¬x_1⟷x_3)∨x_4))∧¬x_2)')\n",
    "print(e)\n",
    "e = e.tseitin()\n",
    "print(e)\n",
    "print(CNF(str(e)))"
   ]
  },
  {
   "cell_type": "code",
   "execution_count": 35,
   "metadata": {},
   "outputs": [
    {
     "name": "stdout",
     "output_type": "stream",
     "text": [
      "((x_1∨x_2∨x_3∨x_4∨x_5)∧(x_2∨x_3∨x_4∨x_5∨x_6)∧(x_3∨x_4∨x_5∨x_6∨x_7))\n",
      "y14∧(¬y14∨y9)∧(¬y14∨y13)∧(y14∨¬y9∨¬y13)∧(¬y13∨y12∨x_7)∧(y13∨¬y12)∧(y13∨¬x_7)∧(¬y12∨y11∨x_6)∧(y12∨¬y11)∧(y12∨¬x_6)∧(¬y11∨y10∨x_5)∧(y11∨¬y10)∧(y11∨¬x_5)∧(¬y10∨x_3∨x_4)∧(y10∨¬x_3)∧(y10∨¬x_4)∧(¬y9∨y4)∧(¬y9∨y8)∧(y9∨¬y4∨¬y8)∧(¬y8∨y7∨x_6)∧(y8∨¬y7)∧(y8∨¬x_6)∧(¬y7∨y6∨x_5)∧(y7∨¬y6)∧(y7∨¬x_5)∧(¬y6∨y5∨x_4)∧(y6∨¬y5)∧(y6∨¬x_4)∧(¬y5∨x_2∨x_3)∧(y5∨¬x_2)∧(y5∨¬x_3)∧(¬y4∨y3∨x_5)∧(y4∨¬y3)∧(y4∨¬x_5)∧(¬y3∨y2∨x_4)∧(y3∨¬y2)∧(y3∨¬x_4)∧(¬y2∨y1∨x_3)∧(y2∨¬y1)∧(y2∨¬x_3)∧(¬y1∨x_1∨x_2)∧(y1∨¬x_1)∧(y1∨¬x_2)\n",
      "y14∧(¬y14∨y9)∧(¬y14∨y13)∧(y14∨¬y9∨¬y13)∧(¬y13∨y12∨x_7)∧(y13∨¬y12)∧(y13∨¬x_7)∧(¬y12∨y11∨x_6)∧(y12∨¬y11)∧(y12∨¬x_6)∧(¬y11∨y10∨x_5)∧(y11∨¬y10)∧(y11∨¬x_5)∧(¬y10∨x_3∨x_4)∧(y10∨¬x_3)∧(y10∨¬x_4)∧(¬y9∨y4)∧(¬y9∨y8)∧(y9∨¬y4∨¬y8)∧(¬y8∨y7∨x_6)∧(y8∨¬y7)∧(y8∨¬x_6)∧(¬y7∨y6∨x_5)∧(y7∨¬y6)∧(y7∨¬x_5)∧(¬y6∨y5∨x_4)∧(y6∨¬y5)∧(y6∨¬x_4)∧(¬y5∨x_2∨x_3)∧(y5∨¬x_2)∧(y5∨¬x_3)∧(¬y4∨y3∨x_5)∧(y4∨¬y3)∧(y4∨¬x_5)∧(¬y3∨y2∨x_4)∧(y3∨¬y2)∧(y3∨¬x_4)∧(¬y2∨y1∨x_3)∧(y2∨¬y1)∧(y2∨¬x_3)∧(¬y1∨x_1∨x_2)∧(y1∨¬x_1)∧(y1∨¬x_2)\n"
     ]
    }
   ],
   "source": [
    "e = Expr.build_from_infix('(x_1∨x_2∨x_3∨x_4∨x_5)∧(x_2∨x_3∨x_4∨x_5∨x_6)∧(x_3∨x_4∨x_5∨x_6∨x_7)')\n",
    "print(e)\n",
    "e = e.tseitin()\n",
    "print(e)\n",
    "print(CNF(str(e)))"
   ]
  },
  {
   "cell_type": "code",
   "execution_count": 36,
   "metadata": {},
   "outputs": [
    {
     "name": "stdout",
     "output_type": "stream",
     "text": [
      "(x_1⟷ x_2⟷ x_3⟷ x_4⟷ x_1⟷ x_3⟷ x_2⟷ x_4)\n",
      "y7∧(¬y7∨¬y3∨y6)∧(¬y7∨y3∨¬y6)∧(y7∨y3∨y3)∧(y7∨y3∨¬y6)∧(y7∨¬y6∨y3)∧(y7∨¬y6∨¬y6)∧(¬y6∨¬y4∨y5)∧(¬y6∨y4∨¬y5)∧(y6∨y4∨y4)∧(y6∨y4∨¬y5)∧(y6∨¬y5∨y4)∧(y6∨¬y5∨¬y5)∧(¬y5∨¬x_2∨x_4)∧(¬y5∨x_2∨¬x_4)∧(y5∨x_2∨x_2)∧(y5∨x_2∨¬x_4)∧(y5∨¬x_4∨x_2)∧(y5∨¬x_4∨¬x_4)∧(¬y4∨¬x_1∨x_3)∧(¬y4∨x_1∨¬x_3)∧(y4∨x_1∨x_1)∧(y4∨x_1∨¬x_3)∧(y4∨¬x_3∨x_1)∧(y4∨¬x_3∨¬x_3)∧(¬y3∨¬y1∨y2)∧(¬y3∨y1∨¬y2)∧(y3∨y1∨y1)∧(y3∨y1∨¬y2)∧(y3∨¬y2∨y1)∧(y3∨¬y2∨¬y2)∧(¬y2∨¬x_3∨x_4)∧(¬y2∨x_3∨¬x_4)∧(y2∨x_3∨x_3)∧(y2∨x_3∨¬x_4)∧(y2∨¬x_4∨x_3)∧(y2∨¬x_4∨¬x_4)∧(¬y1∨¬x_1∨x_2)∧(¬y1∨x_1∨¬x_2)∧(y1∨x_1∨x_1)∧(y1∨x_1∨¬x_2)∧(y1∨¬x_2∨x_1)∧(y1∨¬x_2∨¬x_2)\n",
      "y7∧(¬y7∨¬y3∨y6)∧(¬y7∨y3∨¬y6)∧(y7∨y3)∧(y7∨y3∨¬y6)∧(y7∨¬y6∨y3)∧(y7∨¬y6)∧(¬y6∨¬y4∨y5)∧(¬y6∨y4∨¬y5)∧(y6∨y4)∧(y6∨y4∨¬y5)∧(y6∨¬y5∨y4)∧(y6∨¬y5)∧(¬y5∨¬x_2∨x_4)∧(¬y5∨x_2∨¬x_4)∧(y5∨x_2)∧(y5∨x_2∨¬x_4)∧(y5∨¬x_4∨x_2)∧(y5∨¬x_4)∧(¬y4∨¬x_1∨x_3)∧(¬y4∨x_1∨¬x_3)∧(y4∨x_1)∧(y4∨x_1∨¬x_3)∧(y4∨¬x_3∨x_1)∧(y4∨¬x_3)∧(¬y3∨¬y1∨y2)∧(¬y3∨y1∨¬y2)∧(y3∨y1)∧(y3∨y1∨¬y2)∧(y3∨¬y2∨y1)∧(y3∨¬y2)∧(¬y2∨¬x_3∨x_4)∧(¬y2∨x_3∨¬x_4)∧(y2∨x_3)∧(y2∨x_3∨¬x_4)∧(y2∨¬x_4∨x_3)∧(y2∨¬x_4)∧(¬y1∨¬x_1∨x_2)∧(¬y1∨x_1∨¬x_2)∧(y1∨x_1)∧(y1∨x_1∨¬x_2)∧(y1∨¬x_2∨x_1)∧(y1∨¬x_2)\n"
     ]
    }
   ],
   "source": [
    "e = Expr.build_from_infix('((x_1⟷x_2)⟷(x_3⟷x_4))⟷((x_1⟷x_3)⟷(x_2⟷x_4))')\n",
    "print(e)\n",
    "e = e.tseitin()\n",
    "print(e)\n",
    "print(CNF(str(e)))"
   ]
  },
  {
   "cell_type": "code",
   "execution_count": null,
   "metadata": {},
   "outputs": [],
   "source": []
  }
 ],
 "metadata": {
  "kernelspec": {
   "display_name": "Python 3",
   "language": "python",
   "name": "python3"
  },
  "language_info": {
   "codemirror_mode": {
    "name": "ipython",
    "version": 3
   },
   "file_extension": ".py",
   "mimetype": "text/x-python",
   "name": "python",
   "nbconvert_exporter": "python",
   "pygments_lexer": "ipython3",
   "version": "3.10.6"
  },
  "orig_nbformat": 4,
  "vscode": {
   "interpreter": {
    "hash": "1fa163922eb0b3709bbb5d8082b2465c9de796dbaacca80cbaa600e7fff3e4fe"
   }
  }
 },
 "nbformat": 4,
 "nbformat_minor": 2
}
